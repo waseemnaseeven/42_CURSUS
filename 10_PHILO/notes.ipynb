{
 "cells": [
  {
   "cell_type": "markdown",
   "metadata": {},
   "source": []
  },
  {
   "attachments": {},
   "cell_type": "markdown",
   "metadata": {},
   "source": [
    "# NOTES ABOUT PHILOSOPHER"
   ]
  },
  {
   "attachments": {},
   "cell_type": "markdown",
   "metadata": {},
   "source": [
    "# Makefile"
   ]
  },
  {
   "cell_type": "code",
   "execution_count": 1,
   "metadata": {},
   "outputs": [
    {
     "name": "stdout",
     "output_type": "stream",
     "text": [
      "Overwriting Makefile\n"
     ]
    }
   ],
   "source": [
    "%%file Makefile\n",
    "# **************************************************************************** #\n",
    "#                                                                              #\n",
    "#                                                         :::      ::::::::    #\n",
    "#    Makefile                                           :+:      :+:    :+:    #\n",
    "#                                                     +:+ +:+         +:+      #\n",
    "#    By: wnaseeve <wnaseeve@student.42.fr>          +#+  +:+       +#+         #\n",
    "#                                                 +#+#+#+#+#+   +#+            #\n",
    "#    Created: 2023/04/03 10:22:03 by wnaseeve          #+#    #+#              #\n",
    "#    Updated: 2023/04/03 10:23:39 by wnaseeve         ###   ########.fr        #\n",
    "#                                                                              #\n",
    "# **************************************************************************** #\n",
    "\n",
    "NAME\t\t= philo\n",
    "\n",
    "SRCS    \t= philo.c\\\n",
    "\t\t\t  philo_errors.c\\\n",
    "\t\t\t  philo_utils.c\\\n",
    "\t\t\t  philo_init.c\\\n",
    "\t\t\t  philo_threads.c\\\n",
    "\t\t\t  philo_free.c\\\n",
    "\t\t\t  philo_time.c\\\n",
    "\t\t\t  philo_actions.c\\\n",
    "\t\t\t  philo_status.c\\\n",
    "\n",
    "OBJS\t\t= ${SRCS:.c=.o}\n",
    "\n",
    "HEADER\t\t= philo.h\n",
    "\n",
    "CC\t\t\t= cc\n",
    "\n",
    "CFLAGS\t\t= -g3 -Wall -Wextra -Werror\n",
    "\n",
    "SANITIZER \t= -ggdb -fsanitize=address -fsanitize=thread -fno-omit-frame-pointer -O1\n",
    "\n",
    "all:\t$(NAME)\n",
    "\n",
    "$(NAME): $(OBJS)\n",
    "\t@ printf \"%b\" \"\\t    $(_CYAN)[Cleaning] $(_CYAN)[all]$(_STARLIGHT_GREEN)\\n\";\n",
    "\t@ echo \"\"\n",
    "\t@ echo \"\\t\\033[34;5mCompiling philosophers...\\033[0m\"\n",
    "\t@ echo \"\"\n",
    "\t@ $(CC) $(CFLAGS) $(OBJS) $(SANITIZER) -pthread -o philo\n",
    "\n",
    "%.o: %.c $(HEADER)\n",
    "\t\t${CC} ${CFLAGS} -I. -c $< -o ${<:.c=.o}\n",
    "\n",
    "valgrind:\n",
    "\tmake && clear && valgrind --leak-check=full --track-origins=yes --show-leak-kinds=all --track-fds=yes --suppressions=supp.supp\n",
    "\n",
    "#valgrind complet : valgrind --leak-check=full --track-origins=yes --show-leak-kinds=all --tool=helgrind --tool=drd ./philo\n",
    "\n",
    "gdb:\n",
    "\tmake && clear && gdb -tui ./philo\n",
    "\n",
    "norminette:\n",
    "\tnorminette *\n",
    "\n",
    "clean:\n",
    "\t@printf \"%b\" \"\\t    $(_PURPLE)[Cleaning] $(_PURPLE)[all]$(_PINK_ORANGE)\\n\";\n",
    "\trm -f $(OBJS)\n",
    "\n",
    "fclean: clean\n",
    "\t@printf \"%b\" \"\\t    $(_ORANGE)[Cleaning] $(_ORANGE)[all]$(_RED)\\n\";\n",
    "\trm -f $(NAME)\n",
    "\n",
    "re:\t\tfclean all\n",
    "\n",
    ".PHONY:\t\tall clean fclean re\n",
    "\n",
    "# -------------- Syntaxing -------------- #\n",
    "\n",
    "_NO                    =        \\033[0m\n",
    "_BOLD                =        \\033[1m\n",
    "_BLUE                =        \\033[34m\n",
    "_CYAN                =        \\033[36m\n",
    "_RED                =        \\033[31m\n",
    "_PURPLE             =        \\033[35m\n",
    "_PINK_ORANGE        =        \\033[38;5;215m\n",
    "_GREY                 =        \\033[38;5;234m\n",
    "_STARLIGHT_BLUE     =        \\033[38;5;158m\n",
    "_STARLIGHT_GREEN    =        \\033[38;5;157m\n",
    "_DEEP_BLUE            =        \\033[38;5;69m\n",
    "_YELLOW             =        \\033[38;5;226m\n",
    "_ORANGE                =         \\033[38;5;209m\\e[1m\n",
    "\n",
    "# -------------- Syntaxing -------------- #\n"
   ]
  },
  {
   "attachments": {},
   "cell_type": "markdown",
   "metadata": {},
   "source": [
    "# Header"
   ]
  },
  {
   "cell_type": "code",
   "execution_count": 1,
   "metadata": {},
   "outputs": [
    {
     "name": "stdout",
     "output_type": "stream",
     "text": [
      "Overwriting philo.h\n"
     ]
    }
   ],
   "source": [
    "%%file philo.h\n",
    "/* ************************************************************************** */\n",
    "/*                                                                            */\n",
    "/*                                                        :::      ::::::::   */\n",
    "/*   philo.h                                            :+:      :+:    :+:   */\n",
    "/*                                                    +:+ +:+         +:+     */\n",
    "/*   By: wnaseeve <wnaseeve@student.42.fr>          +#+  +:+       +#+        */\n",
    "/*                                                +#+#+#+#+#+   +#+           */\n",
    "/*   Created: 2023/04/03 10:21:18 by wnaseeve          #+#    #+#             */\n",
    "/*   Updated: 2023/04/03 10:21:37 by wnaseeve         ###   ########.fr       */\n",
    "/*                                                                            */\n",
    "/* ************************************************************************** */\n",
    "\n",
    "#include <pthread.h>\n",
    "#include <stdio.h>\n",
    "#include <stdlib.h>\n",
    "#include <unistd.h>\n",
    "#include <string.h>\n",
    "#include <sys/time.h>\n",
    "\n",
    "typedef struct CommonData\n",
    "{\n",
    "\tint\t\t\t\tnb_philo;\n",
    "\tint\t\t\t\tto_die;\n",
    "\tint\t\t\t\tto_eat;\n",
    "\tint\t\t\t\tto_sleep;\n",
    "\tint\t\t\t\tmust_eat;\n",
    "\tint\t\t\t\tfinished_eating;\n",
    "\tint\t\t\t\tend; //stop\n",
    "\tint\t\t\t\t*forks;\n",
    "\tstruct timeval t_start;\n",
    "\tstruct s_philo **philos; // pointeur vers la structure t_philo\n",
    "\tpthread_mutex_t *mutex; // fourchette par personne\n",
    "\tpthread_mutex_t status; // mutex write a chaque printf\n",
    "\tpthread_mutex_t dead; // mutex pour quil recupere la donnee end\n",
    "\n",
    "}\tt_data;\n",
    "\n",
    "typedef struct s_philo\n",
    "{\n",
    "\tint\t\t\t\tn_meals; // nb de repas\n",
    "\tint\t\t\t\ti_philo; // index du philo\n",
    "\tstruct timeval t_meal;\n",
    "\tpthread_t\t\ttid; // ID de chaque thread\n",
    "\tt_data\t\t\t*data; // pointeur sur ma strcture t_data\n",
    "\n",
    "}\tt_philo;\n",
    "\n",
    "/* ********** INIT FUNCTIONS ********** */\n",
    "int\t\tft_initialize1(t_data *data, char *av[], int ac);\n",
    "int\t\tft_initialize2(t_data *data);\n",
    "int\t\t*ft_create_forks(int nb_philo);\n",
    "pthread_mutex_t\t*ft_create_mutex(int nb_philo);\n",
    "void\tft_init_philos(t_data *data, int i);\n",
    "\n",
    "/* ********** THREADS FUNCTIONS ********** */\n",
    "int\t\tft_create_threads(t_data *data);\n",
    "void\t*ft_routine(void *arg);\n",
    "int\t\tft_join_threads(t_data *data);\n",
    "int\t\tft_one_philo(t_philo *philo);\n",
    "int\t\tft_multiple_philos(t_philo *philo);\n",
    "\n",
    "/* ********** ACTIONS FUNCTIONS ********** */\n",
    "void\tft_actions(t_philo *philo, int i_philo);\n",
    "int\t\tft_get_index(t_philo *philo, int index);\n",
    "void\tft_eat(t_philo *philo, int *rfork, int *lfork, int index);\n",
    "\n",
    "/* ********** STATUS FUNCTIONS ********** */\n",
    "void\tft_writing_death(t_philo *philo);\n",
    "void\tft_writing_status(t_philo *philo, char flag);\n",
    "void\tft_death(t_philo *philo);\n",
    "\n",
    "/* ********** TIME FUNCTIONS ********** */\n",
    "int\tft_calc_timestamp(struct timeval start);\n",
    "struct timeval\tft_now(void);\n",
    "int\tft_calc_time(struct timeval now, struct timeval start);\n",
    "void\tft_msleep(t_philo *philo, int interval);\n",
    "\n",
    "/* ********** ERROR FUNCTIONS ********** */\n",
    "void\tmsg_error(char *msg);\n",
    "\n",
    "/* ********** FREE FUNCTIONS ********** */\n",
    "void\tft_free_philo(t_philo *philo);\n",
    "void\tft_free_philos(t_data *data);\n",
    "void\tft_free_data(t_data *data);\n",
    "\n",
    "/* ********** UTILS FUNCTIONS ********** */\n",
    "long\tft_atol(const char *nptr);\n",
    "int\t\tft_strlen(char *s);\n",
    "void\tprint_tab(t_data *data);\n"
   ]
  },
  {
   "attachments": {},
   "cell_type": "markdown",
   "metadata": {},
   "source": [
    "# Notes"
   ]
  },
  {
   "attachments": {},
   "cell_type": "markdown",
   "metadata": {},
   "source": [
    "Ici, on cherche a effectuer plusieurs taches simultanement.\n",
    "\n",
    "un thread : suite logiique d'instructions a l'interieur d'un processus qui est automatiquement geree par le noyau du sys d'exploitation. Plusieurs threads s'executent simultanement, en parallele.\n",
    "\n",
    "Chaque thread d'un processus possede son propre contexte.\n",
    "Tous les threads font partie du meme processus, ils partagent le meme espace d'adressage virtuel : la même heap, les mêmes bibliothèques partagées et les mêmes descripteurs de fichiers ouverts.\n",
    "\n",
    "Ces threads forment un ensemble de pairs. N’importe quel thread peut tuer ou attendre la fin de n’importe quel autre thread dans le même processus.\n",
    "\n",
    "Difference entre process (fork) et thread : \n",
    "\t- fork est un processus pere fils dont le fils copie le pere\n",
    "\t- thread ont le meme PID alors que fork non\n",
    "\t- toutes les variables cree partagent la meme adresse memoire dans un thread\n",
    "\n",
    "pthread_join : bloque execution d'un thread en attendant qu'un autre thread se termine.\n",
    "\n",
    "Au dessus de 1 millions de thread, ca incremente bizarrement \n",
    "\n",
    "Une situation de competition se creer : le data race.\n",
    "En examinant les résultats, on peut voir que le compte est juste si et seulement si le premier thread termine ses itérations avant que le deuxième commence. Dès que leurs exécutions se chevauchent, le résultat est faussé et toujours inférieur au résultat attendu.\n",
    "\n",
    "peut-on empêcher un thread de lire une valeur quand un autre thread la modifie ? Oui, du coup, on utilise un mutex pour reguler l'acces aux donnees.\n",
    "\n",
    "pthread_mutex_lock : verrouiller un mutex jusqu'au deverouillage\n",
    "pthread_mutex_unlock : \n",
    "pthread_mutex_destroy : detruit un mutex deverouille\n",
    "\n",
    "Un mutex c'est un verrou qui permet de reguler l'acces aux donnees et dempecher que les ressources partagees soient utilisees en meme temps.\n",
    "\n",
    "Attention aux deadlocks : c'est une situation dans laquelle chaque thread attend une ressource détenue par un autre thread.\n",
    "\n",
    "PROGRAMME:\n",
    "\n"
   ]
  },
  {
   "attachments": {},
   "cell_type": "markdown",
   "metadata": {},
   "source": [
    "# TESTER\n"
   ]
  },
  {
   "attachments": {},
   "cell_type": "markdown",
   "metadata": {},
   "source": [
    "arg = 4 ou 5 (optionnel)\n",
    "\n",
    "Ce que je dois tester:\n",
    "\t- la performance : en millisecondes\n",
    "\t- %%timeit\n",
    "\t\t-r number of runs\n",
    "\t\t-n number of loops\n",
    "- tricky case =\n",
    "\t- ./philo 1 800 200 200\tThe philosopher should not eat and should die!\n",
    "\t- ./philo 5 800 200 200\tNo one should die!\n",
    "\t- ./philo 5 800 200 200 7\tNo one should die and the simulation should stop when all the philosophers has eaten at least 7 times each\n",
    "\t- ./philo 4 410 200 200\tNo one should die!\n",
    "\t- ./philo 4 310 200 100\tA philosopher should die!\n",
    "\t- ./philo 5 800 200 150\tNo one should die!\n",
    "\t- ./philo 3 610 200 80\tNo one should die!"
   ]
  },
  {
   "cell_type": "code",
   "execution_count": 1,
   "metadata": {},
   "outputs": [
    {
     "name": "stdout",
     "output_type": "stream",
     "text": [
      "Overwriting tester.py\n"
     ]
    }
   ],
   "source": [
    "%%file tester.py\n",
    "\n",
    "import unittest\n",
    "import sys\n",
    "\n",
    "for i in range(1, len(sys.argv)):\n",
    "    print(sys.argv[i])\n",
    "print(\"Let's test the performance of your philosopher\")"
   ]
  },
  {
   "cell_type": "code",
   "execution_count": 18,
   "metadata": {},
   "outputs": [
    {
     "name": "stdout",
     "output_type": "stream",
     "text": [
      "3.09 ms ± 95.7 µs per loop (mean ± std. dev. of 10 runs, 100 loops each)\n"
     ]
    }
   ],
   "source": [
    "%%timeit -r 10 -n 100\n",
    "%%bash\n",
    "./philo 5 200 200 200 3 > /dev/null\n",
    "\n",
    "# python3 tester.py 6 4 200 200 400"
   ]
  },
  {
   "cell_type": "code",
   "execution_count": null,
   "metadata": {},
   "outputs": [],
   "source": []
  }
 ],
 "metadata": {
  "kernelspec": {
   "display_name": "Python 3",
   "language": "python",
   "name": "python3"
  },
  "language_info": {
   "codemirror_mode": {
    "name": "ipython",
    "version": 3
   },
   "file_extension": ".py",
   "mimetype": "text/x-python",
   "name": "python",
   "nbconvert_exporter": "python",
   "pygments_lexer": "ipython3",
   "version": "3.10.6"
  },
  "orig_nbformat": 4
 },
 "nbformat": 4,
 "nbformat_minor": 2
}
